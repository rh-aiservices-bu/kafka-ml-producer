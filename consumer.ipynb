{
 "cells": [
  {
   "cell_type": "code",
   "execution_count": 4,
   "metadata": {},
   "outputs": [
    {
     "name": "stdout",
     "output_type": "stream",
     "text": [
      "kafka-anom-capc-ng-llnbglq-lf-g.bf2.kafka.rhcloud.com:443\n",
      "srvc-acct-2c57df3d-1c6c-4c9e-bb9d-72d44511c9be\n",
      "0d17d3fb-75d4-4d42-b4b7-9e8006eee326\n",
      "network\n",
      "Subscribed to \"kafka-anom-capc-ng-llnbglq-lf-g.bf2.kafka.rhcloud.com:443\" consuming topic \"network\"...\n",
      "Received the following message on the topic \"network\": {\"timestamp\": \"2014-03-01 19:06:00\", \"value\": \"104.4\"}\n",
      "Received the following message on the topic \"network\": {\"timestamp\": \"2014-03-01 19:11:00\", \"value\": \"42.0\"}\n",
      "Received the following message on the topic \"network\": {\"timestamp\": \"2014-03-01 19:16:00\", \"value\": \"68.4\"}\n",
      "Received the following message on the topic \"network\": {\"timestamp\": \"2014-03-01 19:21:00\", \"value\": \"68.4\"}\n",
      "Received the following message on the topic \"network\": {\"timestamp\": \"2014-03-01 19:26:00\", \"value\": \"86.4\"}\n",
      "Received the following message on the topic \"network\": {\"timestamp\": \"2014-03-01 19:31:00\", \"value\": \"68.4\"}\n",
      "Received the following message on the topic \"network\": {\"timestamp\": \"2014-03-01 19:36:00\", \"value\": \"42.0\"}\n",
      "Received the following message on the topic \"network\": {\"timestamp\": \"2014-03-01 19:41:00\", \"value\": \"112.8\"}\n",
      "Received the following message on the topic \"network\": {\"timestamp\": \"2014-03-01 19:46:00\", \"value\": \"150.6\"}\n",
      "Received the following message on the topic \"network\": {\"timestamp\": \"2014-03-01 19:51:00\", \"value\": \"42.0\"}\n",
      "Closing consumer...\n"
     ]
    },
    {
     "ename": "KeyboardInterrupt",
     "evalue": "",
     "output_type": "error",
     "traceback": [
      "\u001b[0;31m---------------------------------------------------------------------------\u001b[0m",
      "\u001b[0;31mKeyboardInterrupt\u001b[0m                         Traceback (most recent call last)",
      "Input \u001b[0;32mIn [4]\u001b[0m, in \u001b[0;36m<module>\u001b[0;34m\u001b[0m\n\u001b[1;32m     31\u001b[0m \u001b[38;5;28mprint\u001b[39m(\u001b[38;5;124mf\u001b[39m\u001b[38;5;124m'\u001b[39m\u001b[38;5;124mSubscribed to \u001b[39m\u001b[38;5;124m\"\u001b[39m\u001b[38;5;132;01m{\u001b[39;00mKAFKA_BOOTSTRAP_SERVER\u001b[38;5;132;01m}\u001b[39;00m\u001b[38;5;124m\"\u001b[39m\u001b[38;5;124m consuming topic \u001b[39m\u001b[38;5;124m\"\u001b[39m\u001b[38;5;132;01m{\u001b[39;00mKAFKA_TOPIC\u001b[38;5;132;01m}\u001b[39;00m\u001b[38;5;124m\"\u001b[39m\u001b[38;5;124m...\u001b[39m\u001b[38;5;124m'\u001b[39m)\n\u001b[1;32m     33\u001b[0m \u001b[38;5;28;01mtry\u001b[39;00m:\n\u001b[0;32m---> 34\u001b[0m     \u001b[38;5;28;01mfor\u001b[39;00m record \u001b[38;5;129;01min\u001b[39;00m consumer:\n\u001b[1;32m     35\u001b[0m         msg \u001b[38;5;241m=\u001b[39m record\u001b[38;5;241m.\u001b[39mvalue\u001b[38;5;241m.\u001b[39mdecode(\u001b[38;5;124m'\u001b[39m\u001b[38;5;124mutf-8\u001b[39m\u001b[38;5;124m'\u001b[39m)\n\u001b[1;32m     36\u001b[0m         topic \u001b[38;5;241m=\u001b[39m record\u001b[38;5;241m.\u001b[39mtopic\n",
      "File \u001b[0;32m/opt/app-root/lib64/python3.8/site-packages/kafka/consumer/group.py:1193\u001b[0m, in \u001b[0;36mKafkaConsumer.__next__\u001b[0;34m(self)\u001b[0m\n\u001b[1;32m   1191\u001b[0m     \u001b[38;5;28;01mreturn\u001b[39;00m \u001b[38;5;28mself\u001b[39m\u001b[38;5;241m.\u001b[39mnext_v1()\n\u001b[1;32m   1192\u001b[0m \u001b[38;5;28;01melse\u001b[39;00m:\n\u001b[0;32m-> 1193\u001b[0m     \u001b[38;5;28;01mreturn\u001b[39;00m \u001b[38;5;28;48;5;17mself\u001b[39;49m\u001b[38;5;241;48;5;17m.\u001b[39;49m\u001b[48;5;17mnext_v2\u001b[49m\u001b[48;5;17m(\u001b[49m\u001b[48;5;17m)\u001b[49m\n",
      "File \u001b[0;32m/opt/app-root/lib64/python3.8/site-packages/kafka/consumer/group.py:1201\u001b[0m, in \u001b[0;36mKafkaConsumer.next_v2\u001b[0;34m(self)\u001b[0m\n\u001b[1;32m   1199\u001b[0m     \u001b[38;5;28mself\u001b[39m\u001b[38;5;241m.\u001b[39m_iterator \u001b[38;5;241m=\u001b[39m \u001b[38;5;28mself\u001b[39m\u001b[38;5;241m.\u001b[39m_message_generator_v2()\n\u001b[1;32m   1200\u001b[0m \u001b[38;5;28;01mtry\u001b[39;00m:\n\u001b[0;32m-> 1201\u001b[0m     \u001b[38;5;28;01mreturn\u001b[39;00m \u001b[38;5;28;48;5;17mnext\u001b[39;49m\u001b[48;5;17m(\u001b[49m\u001b[38;5;28;48;5;17mself\u001b[39;49m\u001b[38;5;241;48;5;17m.\u001b[39;49m\u001b[48;5;17m_iterator\u001b[49m\u001b[48;5;17m)\u001b[49m\n\u001b[1;32m   1202\u001b[0m \u001b[38;5;28;01mexcept\u001b[39;00m \u001b[38;5;167;01mStopIteration\u001b[39;00m:\n\u001b[1;32m   1203\u001b[0m     \u001b[38;5;28mself\u001b[39m\u001b[38;5;241m.\u001b[39m_iterator \u001b[38;5;241m=\u001b[39m \u001b[38;5;28;01mNone\u001b[39;00m\n",
      "File \u001b[0;32m/opt/app-root/lib64/python3.8/site-packages/kafka/consumer/group.py:1116\u001b[0m, in \u001b[0;36mKafkaConsumer._message_generator_v2\u001b[0;34m(self)\u001b[0m\n\u001b[1;32m   1114\u001b[0m \u001b[38;5;28;01mdef\u001b[39;00m \u001b[38;5;21m_message_generator_v2\u001b[39m(\u001b[38;5;28mself\u001b[39m):\n\u001b[1;32m   1115\u001b[0m     timeout_ms \u001b[38;5;241m=\u001b[39m \u001b[38;5;241m1000\u001b[39m \u001b[38;5;241m*\u001b[39m (\u001b[38;5;28mself\u001b[39m\u001b[38;5;241m.\u001b[39m_consumer_timeout \u001b[38;5;241m-\u001b[39m time\u001b[38;5;241m.\u001b[39mtime())\n\u001b[0;32m-> 1116\u001b[0m     record_map \u001b[38;5;241m=\u001b[39m \u001b[38;5;28;48;5;17mself\u001b[39;49m\u001b[38;5;241;48;5;17m.\u001b[39;49m\u001b[48;5;17mpoll\u001b[49m\u001b[48;5;17m(\u001b[49m\u001b[48;5;17mtimeout_ms\u001b[49m\u001b[38;5;241;48;5;17m=\u001b[39;49m\u001b[48;5;17mtimeout_ms\u001b[49m\u001b[48;5;17m,\u001b[49m\u001b[48;5;17m \u001b[49m\u001b[48;5;17mupdate_offsets\u001b[49m\u001b[38;5;241;48;5;17m=\u001b[39;49m\u001b[38;5;28;48;5;17;01mFalse\u001b[39;49;00m\u001b[48;5;17m)\u001b[49m\n\u001b[1;32m   1117\u001b[0m     \u001b[38;5;28;01mfor\u001b[39;00m tp, records \u001b[38;5;129;01min\u001b[39;00m six\u001b[38;5;241m.\u001b[39miteritems(record_map):\n\u001b[1;32m   1118\u001b[0m         \u001b[38;5;66;03m# Generators are stateful, and it is possible that the tp / records\u001b[39;00m\n\u001b[1;32m   1119\u001b[0m         \u001b[38;5;66;03m# here may become stale during iteration -- i.e., we seek to a\u001b[39;00m\n\u001b[1;32m   1120\u001b[0m         \u001b[38;5;66;03m# different offset, pause consumption, or lose assignment.\u001b[39;00m\n\u001b[1;32m   1121\u001b[0m         \u001b[38;5;28;01mfor\u001b[39;00m record \u001b[38;5;129;01min\u001b[39;00m records:\n\u001b[1;32m   1122\u001b[0m             \u001b[38;5;66;03m# is_fetchable(tp) should handle assignment changes and offset\u001b[39;00m\n\u001b[1;32m   1123\u001b[0m             \u001b[38;5;66;03m# resets; for all other changes (e.g., seeks) we'll rely on the\u001b[39;00m\n\u001b[1;32m   1124\u001b[0m             \u001b[38;5;66;03m# outer function destroying the existing iterator/generator\u001b[39;00m\n\u001b[1;32m   1125\u001b[0m             \u001b[38;5;66;03m# via self._iterator = None\u001b[39;00m\n",
      "File \u001b[0;32m/opt/app-root/lib64/python3.8/site-packages/kafka/consumer/group.py:655\u001b[0m, in \u001b[0;36mKafkaConsumer.poll\u001b[0;34m(self, timeout_ms, max_records, update_offsets)\u001b[0m\n\u001b[1;32m    653\u001b[0m remaining \u001b[38;5;241m=\u001b[39m timeout_ms\n\u001b[1;32m    654\u001b[0m \u001b[38;5;28;01mwhile\u001b[39;00m \u001b[38;5;28;01mTrue\u001b[39;00m:\n\u001b[0;32m--> 655\u001b[0m     records \u001b[38;5;241m=\u001b[39m \u001b[38;5;28;48;5;17mself\u001b[39;49m\u001b[38;5;241;48;5;17m.\u001b[39;49m\u001b[48;5;17m_poll_once\u001b[49m\u001b[48;5;17m(\u001b[49m\u001b[48;5;17mremaining\u001b[49m\u001b[48;5;17m,\u001b[49m\u001b[48;5;17m \u001b[49m\u001b[48;5;17mmax_records\u001b[49m\u001b[48;5;17m,\u001b[49m\u001b[48;5;17m \u001b[49m\u001b[48;5;17mupdate_offsets\u001b[49m\u001b[38;5;241;48;5;17m=\u001b[39;49m\u001b[48;5;17mupdate_offsets\u001b[49m\u001b[48;5;17m)\u001b[49m\n\u001b[1;32m    656\u001b[0m     \u001b[38;5;28;01mif\u001b[39;00m records:\n\u001b[1;32m    657\u001b[0m         \u001b[38;5;28;01mreturn\u001b[39;00m records\n",
      "File \u001b[0;32m/opt/app-root/lib64/python3.8/site-packages/kafka/consumer/group.py:702\u001b[0m, in \u001b[0;36mKafkaConsumer._poll_once\u001b[0;34m(self, timeout_ms, max_records, update_offsets)\u001b[0m\n\u001b[1;32m    699\u001b[0m     \u001b[38;5;28mself\u001b[39m\u001b[38;5;241m.\u001b[39m_client\u001b[38;5;241m.\u001b[39mpoll(timeout_ms\u001b[38;5;241m=\u001b[39m\u001b[38;5;241m0\u001b[39m)\n\u001b[1;32m    701\u001b[0m timeout_ms \u001b[38;5;241m=\u001b[39m \u001b[38;5;28mmin\u001b[39m(timeout_ms, \u001b[38;5;28mself\u001b[39m\u001b[38;5;241m.\u001b[39m_coordinator\u001b[38;5;241m.\u001b[39mtime_to_next_poll() \u001b[38;5;241m*\u001b[39m \u001b[38;5;241m1000\u001b[39m)\n\u001b[0;32m--> 702\u001b[0m \u001b[38;5;28;48;5;17mself\u001b[39;49m\u001b[38;5;241;48;5;17m.\u001b[39;49m\u001b[48;5;17m_client\u001b[49m\u001b[38;5;241;48;5;17m.\u001b[39;49m\u001b[48;5;17mpoll\u001b[49m\u001b[48;5;17m(\u001b[49m\u001b[48;5;17mtimeout_ms\u001b[49m\u001b[38;5;241;48;5;17m=\u001b[39;49m\u001b[48;5;17mtimeout_ms\u001b[49m\u001b[48;5;17m)\u001b[49m\n\u001b[1;32m    703\u001b[0m \u001b[38;5;66;03m# after the long poll, we should check whether the group needs to rebalance\u001b[39;00m\n\u001b[1;32m    704\u001b[0m \u001b[38;5;66;03m# prior to returning data so that the group can stabilize faster\u001b[39;00m\n\u001b[1;32m    705\u001b[0m \u001b[38;5;28;01mif\u001b[39;00m \u001b[38;5;28mself\u001b[39m\u001b[38;5;241m.\u001b[39m_coordinator\u001b[38;5;241m.\u001b[39mneed_rejoin():\n",
      "File \u001b[0;32m/opt/app-root/lib64/python3.8/site-packages/kafka/client_async.py:602\u001b[0m, in \u001b[0;36mKafkaClient.poll\u001b[0;34m(self, timeout_ms, future)\u001b[0m\n\u001b[1;32m    599\u001b[0m             timeout \u001b[38;5;241m=\u001b[39m \u001b[38;5;28mmin\u001b[39m(timeout, \u001b[38;5;28mself\u001b[39m\u001b[38;5;241m.\u001b[39mconfig[\u001b[38;5;124m'\u001b[39m\u001b[38;5;124mretry_backoff_ms\u001b[39m\u001b[38;5;124m'\u001b[39m])\n\u001b[1;32m    600\u001b[0m         timeout \u001b[38;5;241m=\u001b[39m \u001b[38;5;28mmax\u001b[39m(\u001b[38;5;241m0\u001b[39m, timeout)  \u001b[38;5;66;03m# avoid negative timeouts\u001b[39;00m\n\u001b[0;32m--> 602\u001b[0m     \u001b[38;5;28;48;5;17mself\u001b[39;49m\u001b[38;5;241;48;5;17m.\u001b[39;49m\u001b[48;5;17m_poll\u001b[49m\u001b[48;5;17m(\u001b[49m\u001b[48;5;17mtimeout\u001b[49m\u001b[48;5;17m \u001b[49m\u001b[38;5;241;48;5;17m/\u001b[39;49m\u001b[48;5;17m \u001b[49m\u001b[38;5;241;48;5;17m1000\u001b[39;49m\u001b[48;5;17m)\u001b[49m\n\u001b[1;32m    604\u001b[0m \u001b[38;5;66;03m# called without the lock to avoid deadlock potential\u001b[39;00m\n\u001b[1;32m    605\u001b[0m \u001b[38;5;66;03m# if handlers need to acquire locks\u001b[39;00m\n\u001b[1;32m    606\u001b[0m responses\u001b[38;5;241m.\u001b[39mextend(\u001b[38;5;28mself\u001b[39m\u001b[38;5;241m.\u001b[39m_fire_pending_completed_requests())\n",
      "File \u001b[0;32m/opt/app-root/lib64/python3.8/site-packages/kafka/client_async.py:634\u001b[0m, in \u001b[0;36mKafkaClient._poll\u001b[0;34m(self, timeout)\u001b[0m\n\u001b[1;32m    631\u001b[0m \u001b[38;5;28mself\u001b[39m\u001b[38;5;241m.\u001b[39m_register_send_sockets()\n\u001b[1;32m    633\u001b[0m start_select \u001b[38;5;241m=\u001b[39m time\u001b[38;5;241m.\u001b[39mtime()\n\u001b[0;32m--> 634\u001b[0m ready \u001b[38;5;241m=\u001b[39m \u001b[38;5;28;48;5;17mself\u001b[39;49m\u001b[38;5;241;48;5;17m.\u001b[39;49m\u001b[48;5;17m_selector\u001b[49m\u001b[38;5;241;48;5;17m.\u001b[39;49m\u001b[48;5;17mselect\u001b[49m\u001b[48;5;17m(\u001b[49m\u001b[48;5;17mtimeout\u001b[49m\u001b[48;5;17m)\u001b[49m\n\u001b[1;32m    635\u001b[0m end_select \u001b[38;5;241m=\u001b[39m time\u001b[38;5;241m.\u001b[39mtime()\n\u001b[1;32m    636\u001b[0m \u001b[38;5;28;01mif\u001b[39;00m \u001b[38;5;28mself\u001b[39m\u001b[38;5;241m.\u001b[39m_sensors:\n",
      "File \u001b[0;32m/usr/lib64/python3.8/selectors.py:468\u001b[0m, in \u001b[0;36mEpollSelector.select\u001b[0;34m(self, timeout)\u001b[0m\n\u001b[1;32m    466\u001b[0m ready \u001b[38;5;241m=\u001b[39m []\n\u001b[1;32m    467\u001b[0m \u001b[38;5;28;01mtry\u001b[39;00m:\n\u001b[0;32m--> 468\u001b[0m     fd_event_list \u001b[38;5;241m=\u001b[39m \u001b[38;5;28;48;5;17mself\u001b[39;49m\u001b[38;5;241;48;5;17m.\u001b[39;49m\u001b[48;5;17m_selector\u001b[49m\u001b[38;5;241;48;5;17m.\u001b[39;49m\u001b[48;5;17mpoll\u001b[49m\u001b[48;5;17m(\u001b[49m\u001b[48;5;17mtimeout\u001b[49m\u001b[48;5;17m,\u001b[49m\u001b[48;5;17m \u001b[49m\u001b[48;5;17mmax_ev\u001b[49m\u001b[48;5;17m)\u001b[49m\n\u001b[1;32m    469\u001b[0m \u001b[38;5;28;01mexcept\u001b[39;00m \u001b[38;5;167;01mInterruptedError\u001b[39;00m:\n\u001b[1;32m    470\u001b[0m     \u001b[38;5;28;01mreturn\u001b[39;00m ready\n",
      "\u001b[0;31mKeyboardInterrupt\u001b[0m: "
     ]
    }
   ],
   "source": [
    "import os\n",
    "import json\n",
    "from kafka import KafkaConsumer, KafkaProducer\n",
    "\n",
    "KAFKA_BOOTSTRAP_SERVER = os.getenv('KAFKA_BOOTSTRAP_SERVER')\n",
    "KAFKA_SECURITY_PROTOCOL = os.getenv('KAFKA_SECURITY_PROTOCOL', 'SASL_SSL')\n",
    "KAFKA_SASL_MECHANISM = os.getenv('KAFKA_SASL_MECHANISM','PLAIN')\n",
    "KAFKA_USERNAME = os.getenv('KAFKA_USERNAME')\n",
    "KAFKA_PASSWORD = os.getenv('KAFKA_PASSWORD')\n",
    "#KAFKA_CONSUMER_GROUP = 'object-detection-consumer-group'\n",
    "#KAFKA_CONSUMER_TOPIC = os.getenv('KAFKA_TOPIC_IMAGES')\n",
    "KAFKA_TOPIC = os.getenv('KAFKA_TOPIC')\n",
    "DELAY = 2\n",
    "DATAFILE = 'network-data.csv'\n",
    "\n",
    "print(KAFKA_BOOTSTRAP_SERVER)\n",
    "print(KAFKA_USERNAME)\n",
    "print(KAFKA_PASSWORD)\n",
    "print(KAFKA_TOPIC)\n",
    "# Kafka consumer group to which this consumer belongs\n",
    "KAFKA_CONSUMER_GROUP = 'ml-consumer'\n",
    "consumer = KafkaConsumer(KAFKA_TOPIC,\n",
    "                         group_id=KAFKA_CONSUMER_GROUP,\n",
    "                         bootstrap_servers=[KAFKA_BOOTSTRAP_SERVER],\n",
    "                         security_protocol=KAFKA_SECURITY_PROTOCOL,\n",
    "                         sasl_mechanism=KAFKA_SASL_MECHANISM,\n",
    "                         sasl_plain_username=KAFKA_USERNAME,\n",
    "                         sasl_plain_password=KAFKA_PASSWORD,\n",
    "                         api_version_auto_timeout_ms=30000,\n",
    "                         request_timeout_ms=450000)\n",
    "print(f'Subscribed to \"{KAFKA_BOOTSTRAP_SERVER}\" consuming topic \"{KAFKA_TOPIC}\"...')\n",
    "\n",
    "try:\n",
    "    for record in consumer:\n",
    "        msg = record.value.decode('utf-8')\n",
    "        topic = record.topic\n",
    "        print(('Received the following message on the '\n",
    "               f'topic \"{topic}\": {msg}'))\n",
    "\n",
    "finally:\n",
    "    print(\"Closing consumer...\")\n",
    "    consumer.close()\n",
    "print(\"Kafka consumer stopped.\")\n",
    "\n",
    "\n"
   ]
  },
  {
   "cell_type": "code",
   "execution_count": null,
   "metadata": {},
   "outputs": [],
   "source": []
  },
  {
   "cell_type": "code",
   "execution_count": null,
   "metadata": {},
   "outputs": [],
   "source": []
  },
  {
   "cell_type": "code",
   "execution_count": null,
   "metadata": {},
   "outputs": [],
   "source": []
  }
 ],
 "metadata": {
  "kernelspec": {
   "display_name": "Python 3 (ipykernel)",
   "language": "python",
   "name": "python3"
  },
  "language_info": {
   "codemirror_mode": {
    "name": "ipython",
    "version": 3
   },
   "file_extension": ".py",
   "mimetype": "text/x-python",
   "name": "python",
   "nbconvert_exporter": "python",
   "pygments_lexer": "ipython3",
   "version": "3.8.8"
  }
 },
 "nbformat": 4,
 "nbformat_minor": 4
}
