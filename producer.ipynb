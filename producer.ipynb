{
 "cells": [
  {
   "cell_type": "code",
   "execution_count": 4,
   "id": "0a0662e2-e0f3-4263-9c13-6e829c91ee39",
   "metadata": {
    "tags": []
   },
   "outputs": [
    {
     "name": "stdout",
     "output_type": "stream",
     "text": [
      "kafka-anom-capc-ng-llnbglq-lf-g.bf2.kafka.rhcloud.com:443\n",
      "srvc-acct-2c57df3d-1c6c-4c9e-bb9d-72d44511c9be\n",
      "0d17d3fb-75d4-4d42-b4b7-9e8006eee326\n",
      "network\n",
      "Subscribed to \"kafka-anom-capc-ng-llnbglq-lf-g.bf2.kafka.rhcloud.com:443\"  producing messages on topic \"network\"...\n",
      "sending {\"timestamp\": \"2014-03-01 17:36:00\", \"value\": \"42.0\"}\n"
     ]
    },
    {
     "ename": "KeyboardInterrupt",
     "evalue": "",
     "output_type": "error",
     "traceback": [
      "\u001b[0;31m---------------------------------------------------------------------------\u001b[0m",
      "\u001b[0;31mKeyboardInterrupt\u001b[0m                         Traceback (most recent call last)",
      "Input \u001b[0;32mIn [4]\u001b[0m, in \u001b[0;36m<module>\u001b[0;34m\u001b[0m\n\u001b[1;32m     41\u001b[0m \u001b[38;5;28mprint\u001b[39m(\u001b[38;5;124mf\u001b[39m\u001b[38;5;124m'\u001b[39m\u001b[38;5;124mSubscribed to \u001b[39m\u001b[38;5;124m\"\u001b[39m\u001b[38;5;132;01m{\u001b[39;00mKAFKA_BOOTSTRAP_SERVER\u001b[38;5;132;01m}\u001b[39;00m\u001b[38;5;124m\"\u001b[39m\u001b[38;5;124m  producing messages on topic \u001b[39m\u001b[38;5;124m\"\u001b[39m\u001b[38;5;132;01m{\u001b[39;00mKAFKA_TOPIC\u001b[38;5;132;01m}\u001b[39;00m\u001b[38;5;124m\"\u001b[39m\u001b[38;5;124m...\u001b[39m\u001b[38;5;124m'\u001b[39m)\n\u001b[1;32m     43\u001b[0m \u001b[38;5;28;01mfor\u001b[39;00m item \u001b[38;5;129;01min\u001b[39;00m itertools\u001b[38;5;241m.\u001b[39mcycle(data):\n\u001b[0;32m---> 44\u001b[0m     \u001b[48;5;17mtime\u001b[49m\u001b[38;5;241;48;5;17m.\u001b[39;49m\u001b[48;5;17msleep\u001b[49m\u001b[48;5;17m(\u001b[49m\u001b[48;5;17mDELAY\u001b[49m\u001b[48;5;17m)\u001b[49m\n\u001b[1;32m     45\u001b[0m     jsonpayload \u001b[38;5;241m=\u001b[39m json\u001b[38;5;241m.\u001b[39mdumps({\u001b[38;5;124m'\u001b[39m\u001b[38;5;124mtimestamp\u001b[39m\u001b[38;5;124m'\u001b[39m: item[\u001b[38;5;241m0\u001b[39m], \u001b[38;5;124m'\u001b[39m\u001b[38;5;124mvalue\u001b[39m\u001b[38;5;124m'\u001b[39m: item[\u001b[38;5;241m1\u001b[39m]})\n\u001b[1;32m     46\u001b[0m     \u001b[38;5;28mprint\u001b[39m(\u001b[38;5;124mf\u001b[39m\u001b[38;5;124m'\u001b[39m\u001b[38;5;124msending \u001b[39m\u001b[38;5;132;01m{\u001b[39;00mjsonpayload\u001b[38;5;132;01m}\u001b[39;00m\u001b[38;5;124m'\u001b[39m)\n",
      "\u001b[0;31mKeyboardInterrupt\u001b[0m: "
     ]
    }
   ],
   "source": [
    "import os\n",
    "import json\n",
    "from kafka import KafkaConsumer, KafkaProducer\n",
    "import csv\n",
    "import time\n",
    "import itertools\n",
    "\n",
    "KAFKA_BOOTSTRAP_SERVER = os.getenv('KAFKA_BOOTSTRAP_SERVER')\n",
    "KAFKA_SECURITY_PROTOCOL = os.getenv('KAFKA_SECURITY_PROTOCOL', 'SASL_SSL')\n",
    "KAFKA_SASL_MECHANISM = os.getenv('KAFKA_SASL_MECHANISM','PLAIN')\n",
    "KAFKA_USERNAME = os.getenv('KAFKA_USERNAME')\n",
    "KAFKA_PASSWORD = os.getenv('KAFKA_PASSWORD')\n",
    "KAFKA_TOPIC = os.getenv('KAFKA_TOPIC')\n",
    "DELAY = 2\n",
    "DATAFILE = 'network-data.csv'\n",
    "\n",
    "print(KAFKA_BOOTSTRAP_SERVER)\n",
    "print(KAFKA_USERNAME)\n",
    "print(KAFKA_PASSWORD)\n",
    "print(KAFKA_TOPIC)\n",
    "\n",
    "\n",
    "with open(DATAFILE, 'r') as read_obj:\n",
    "    csv_reader = csv.reader(read_obj)\n",
    "    data = list(csv_reader)\n",
    "\n",
    "#remove column names before streaming    \n",
    "data.pop(0)\n",
    "\n",
    "\n",
    "producer = KafkaProducer(bootstrap_servers=KAFKA_BOOTSTRAP_SERVER,\n",
    "                         security_protocol=KAFKA_SECURITY_PROTOCOL,\n",
    "                         sasl_mechanism=KAFKA_SASL_MECHANISM,\n",
    "                         sasl_plain_username=KAFKA_USERNAME,\n",
    "                         sasl_plain_password=KAFKA_PASSWORD,\n",
    "                         api_version_auto_timeout_ms=30000,\n",
    "                         max_block_ms=900000,\n",
    "                         request_timeout_ms=450000,\n",
    "                         acks='all')\n",
    "\n",
    "print(f'Subscribed to \"{KAFKA_BOOTSTRAP_SERVER}\"  producing messages on topic \"{KAFKA_TOPIC}\"...')\n",
    "\n",
    "for item in itertools.cycle(data):\n",
    "    time.sleep(DELAY)\n",
    "    jsonpayload = json.dumps({'timestamp': item[0], 'value': item[1]})\n",
    "    print(f'sending {jsonpayload}')\n",
    "    producer.send(KAFKA_TOPIC, jsonpayload.encode('utf-8'))\n",
    "\n",
    "#producer.flush()  # Important, especially if message size is small\n"
   ]
  },
  {
   "cell_type": "code",
   "execution_count": null,
   "id": "8bf98b60-e5a6-46df-a030-17a8bea0b301",
   "metadata": {},
   "outputs": [],
   "source": []
  }
 ],
 "metadata": {
  "kernelspec": {
   "display_name": "Python 3 (ipykernel)",
   "language": "python",
   "name": "python3"
  },
  "language_info": {
   "codemirror_mode": {
    "name": "ipython",
    "version": 3
   },
   "file_extension": ".py",
   "mimetype": "text/x-python",
   "name": "python",
   "nbconvert_exporter": "python",
   "pygments_lexer": "ipython3",
   "version": "3.8.8"
  }
 },
 "nbformat": 4,
 "nbformat_minor": 5
}
