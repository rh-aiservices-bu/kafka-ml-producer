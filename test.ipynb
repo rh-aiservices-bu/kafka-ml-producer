{
 "cells": [
  {
   "cell_type": "code",
   "execution_count": 22,
   "id": "6020ce1c-f239-4548-86d2-2b7cbe15fd79",
   "metadata": {},
   "outputs": [],
   "source": [
    "import csv\n",
    "import itertools\n",
    "import time\n",
    "\n",
    "datafile = 'network-data.csv'\n",
    "\n",
    "with open(datafile, 'r') as read_obj:\n",
    "    csv_reader = csv.reader(read_obj)\n",
    "    list_of_csv = list(csv_reader)\n",
    "\n",
    "#remove column names before streaming    \n",
    "list_of_csv.pop(0)\n",
    "\n",
    "for item in itertools.cycle(list_of_csv):\n",
    "    print(item)\n",
    "    time.sleep(1)\n"
   ]
  },
  {
   "cell_type": "code",
   "execution_count": 3,
   "id": "0a0662e2-e0f3-4263-9c13-6e829c91ee39",
   "metadata": {
    "tags": []
   },
   "outputs": [
    {
     "name": "stdout",
     "output_type": "stream",
     "text": [
      "kafka-anom-capc-ng-llnbglq-lf-g.bf2.kafka.rhcloud.com:443\n",
      "srvc-acct-2c57df3d-1c6c-4c9e-bb9d-72d44511c9be\n",
      "0d17d3fb-75d4-4d42-b4b7-9e8006eee326\n",
      "network\n"
     ]
    },
    {
     "ename": "NoBrokersAvailable",
     "evalue": "NoBrokersAvailable",
     "output_type": "error",
     "traceback": [
      "\u001b[0;31m---------------------------------------------------------------------------\u001b[0m",
      "\u001b[0;31mNoBrokersAvailable\u001b[0m                        Traceback (most recent call last)",
      "Input \u001b[0;32mIn [3]\u001b[0m, in \u001b[0;36m<module>\u001b[0;34m\u001b[0m\n\u001b[1;32m     20\u001b[0m \u001b[38;5;28mprint\u001b[39m(KAFKA_PASSWORD)\n\u001b[1;32m     21\u001b[0m \u001b[38;5;28mprint\u001b[39m(KAFKA_PRODUCER_TOPIC)\n\u001b[0;32m---> 23\u001b[0m producer \u001b[38;5;241m=\u001b[39m \u001b[48;5;17mKafkaProducer\u001b[49m\u001b[48;5;17m(\u001b[49m\u001b[48;5;17mbootstrap_servers\u001b[49m\u001b[38;5;241;48;5;17m=\u001b[39;49m\u001b[48;5;17mKAFKA_BOOTSTRAP_SERVER\u001b[49m\u001b[48;5;17m,\u001b[49m\n\u001b[1;32m     24\u001b[0m \u001b[48;5;17m                         \u001b[49m\u001b[48;5;17msecurity_protocol\u001b[49m\u001b[38;5;241;48;5;17m=\u001b[39;49m\u001b[48;5;17mKAFKA_SECURITY_PROTOCOL\u001b[49m\u001b[48;5;17m,\u001b[49m\n\u001b[1;32m     25\u001b[0m \u001b[48;5;17m                         \u001b[49m\u001b[48;5;17msasl_mechanism\u001b[49m\u001b[38;5;241;48;5;17m=\u001b[39;49m\u001b[48;5;17mKAFKA_SASL_MECHANISM\u001b[49m\u001b[48;5;17m,\u001b[49m\n\u001b[1;32m     26\u001b[0m \u001b[48;5;17m                         \u001b[49m\u001b[48;5;17msasl_plain_username\u001b[49m\u001b[38;5;241;48;5;17m=\u001b[39;49m\u001b[48;5;17mKAFKA_USERNAME\u001b[49m\u001b[48;5;17m,\u001b[49m\n\u001b[1;32m     27\u001b[0m \u001b[48;5;17m                         \u001b[49m\u001b[48;5;17msasl_plain_password\u001b[49m\u001b[38;5;241;48;5;17m=\u001b[39;49m\u001b[48;5;17mKAFKA_PASSWORD\u001b[49m\u001b[48;5;17m,\u001b[49m\n\u001b[1;32m     28\u001b[0m \u001b[48;5;17m                         \u001b[49m\u001b[48;5;17mapi_version_auto_timeout_ms\u001b[49m\u001b[38;5;241;48;5;17m=\u001b[39;49m\u001b[38;5;241;48;5;17m30000\u001b[39;49m\u001b[48;5;17m,\u001b[49m\n\u001b[1;32m     29\u001b[0m \u001b[48;5;17m                         \u001b[49m\u001b[48;5;17mmax_block_ms\u001b[49m\u001b[38;5;241;48;5;17m=\u001b[39;49m\u001b[38;5;241;48;5;17m900000\u001b[39;49m\u001b[48;5;17m,\u001b[49m\n\u001b[1;32m     30\u001b[0m \u001b[48;5;17m                         \u001b[49m\u001b[48;5;17mrequest_timeout_ms\u001b[49m\u001b[38;5;241;48;5;17m=\u001b[39;49m\u001b[38;5;241;48;5;17m450000\u001b[39;49m\u001b[48;5;17m,\u001b[49m\n\u001b[1;32m     31\u001b[0m \u001b[48;5;17m                         \u001b[49m\u001b[48;5;17macks\u001b[49m\u001b[38;5;241;48;5;17m=\u001b[39;49m\u001b[38;5;124;48;5;17m'\u001b[39;49m\u001b[38;5;124;48;5;17mall\u001b[39;49m\u001b[38;5;124;48;5;17m'\u001b[39;49m\u001b[48;5;17m)\u001b[49m\n\u001b[1;32m     33\u001b[0m \u001b[38;5;28mprint\u001b[39m(\u001b[38;5;124mf\u001b[39m\u001b[38;5;124m'\u001b[39m\u001b[38;5;124mSubscribed to \u001b[39m\u001b[38;5;124m\"\u001b[39m\u001b[38;5;132;01m{\u001b[39;00mKAFKA_BOOTSTRAP_SERVER\u001b[38;5;132;01m}\u001b[39;00m\u001b[38;5;124m\"\u001b[39m\u001b[38;5;124m  producing messages on topic \u001b[39m\u001b[38;5;124m\"\u001b[39m\u001b[38;5;132;01m{\u001b[39;00mKAFKA_PRODUCER_TOPIC\u001b[38;5;132;01m}\u001b[39;00m\u001b[38;5;124m\"\u001b[39m\u001b[38;5;124m...\u001b[39m\u001b[38;5;124m'\u001b[39m)\n",
      "File \u001b[0;32m/opt/app-root/lib64/python3.8/site-packages/kafka/producer/kafka.py:381\u001b[0m, in \u001b[0;36mKafkaProducer.__init__\u001b[0;34m(self, **configs)\u001b[0m\n\u001b[1;32m    378\u001b[0m reporters \u001b[38;5;241m=\u001b[39m [reporter() \u001b[38;5;28;01mfor\u001b[39;00m reporter \u001b[38;5;129;01min\u001b[39;00m \u001b[38;5;28mself\u001b[39m\u001b[38;5;241m.\u001b[39mconfig[\u001b[38;5;124m'\u001b[39m\u001b[38;5;124mmetric_reporters\u001b[39m\u001b[38;5;124m'\u001b[39m]]\n\u001b[1;32m    379\u001b[0m \u001b[38;5;28mself\u001b[39m\u001b[38;5;241m.\u001b[39m_metrics \u001b[38;5;241m=\u001b[39m Metrics(metric_config, reporters)\n\u001b[0;32m--> 381\u001b[0m client \u001b[38;5;241m=\u001b[39m \u001b[48;5;17mKafkaClient\u001b[49m\u001b[48;5;17m(\u001b[49m\u001b[48;5;17mmetrics\u001b[49m\u001b[38;5;241;48;5;17m=\u001b[39;49m\u001b[38;5;28;48;5;17mself\u001b[39;49m\u001b[38;5;241;48;5;17m.\u001b[39;49m\u001b[48;5;17m_metrics\u001b[49m\u001b[48;5;17m,\u001b[49m\u001b[48;5;17m \u001b[49m\u001b[48;5;17mmetric_group_prefix\u001b[49m\u001b[38;5;241;48;5;17m=\u001b[39;49m\u001b[38;5;124;48;5;17m'\u001b[39;49m\u001b[38;5;124;48;5;17mproducer\u001b[39;49m\u001b[38;5;124;48;5;17m'\u001b[39;49m\u001b[48;5;17m,\u001b[49m\n\u001b[1;32m    382\u001b[0m \u001b[48;5;17m                     \u001b[49m\u001b[48;5;17mwakeup_timeout_ms\u001b[49m\u001b[38;5;241;48;5;17m=\u001b[39;49m\u001b[38;5;28;48;5;17mself\u001b[39;49m\u001b[38;5;241;48;5;17m.\u001b[39;49m\u001b[48;5;17mconfig\u001b[49m\u001b[48;5;17m[\u001b[49m\u001b[38;5;124;48;5;17m'\u001b[39;49m\u001b[38;5;124;48;5;17mmax_block_ms\u001b[39;49m\u001b[38;5;124;48;5;17m'\u001b[39;49m\u001b[48;5;17m]\u001b[49m\u001b[48;5;17m,\u001b[49m\n\u001b[1;32m    383\u001b[0m \u001b[48;5;17m                     \u001b[49m\u001b[38;5;241;48;5;17m*\u001b[39;49m\u001b[38;5;241;48;5;17m*\u001b[39;49m\u001b[38;5;28;48;5;17mself\u001b[39;49m\u001b[38;5;241;48;5;17m.\u001b[39;49m\u001b[48;5;17mconfig\u001b[49m\u001b[48;5;17m)\u001b[49m\n\u001b[1;32m    385\u001b[0m \u001b[38;5;66;03m# Get auto-discovered version from client if necessary\u001b[39;00m\n\u001b[1;32m    386\u001b[0m \u001b[38;5;28;01mif\u001b[39;00m \u001b[38;5;28mself\u001b[39m\u001b[38;5;241m.\u001b[39mconfig[\u001b[38;5;124m'\u001b[39m\u001b[38;5;124mapi_version\u001b[39m\u001b[38;5;124m'\u001b[39m] \u001b[38;5;129;01mis\u001b[39;00m \u001b[38;5;28;01mNone\u001b[39;00m:\n",
      "File \u001b[0;32m/opt/app-root/lib64/python3.8/site-packages/kafka/client_async.py:244\u001b[0m, in \u001b[0;36mKafkaClient.__init__\u001b[0;34m(self, **configs)\u001b[0m\n\u001b[1;32m    242\u001b[0m \u001b[38;5;28;01mif\u001b[39;00m \u001b[38;5;28mself\u001b[39m\u001b[38;5;241m.\u001b[39mconfig[\u001b[38;5;124m'\u001b[39m\u001b[38;5;124mapi_version\u001b[39m\u001b[38;5;124m'\u001b[39m] \u001b[38;5;129;01mis\u001b[39;00m \u001b[38;5;28;01mNone\u001b[39;00m:\n\u001b[1;32m    243\u001b[0m     check_timeout \u001b[38;5;241m=\u001b[39m \u001b[38;5;28mself\u001b[39m\u001b[38;5;241m.\u001b[39mconfig[\u001b[38;5;124m'\u001b[39m\u001b[38;5;124mapi_version_auto_timeout_ms\u001b[39m\u001b[38;5;124m'\u001b[39m] \u001b[38;5;241m/\u001b[39m \u001b[38;5;241m1000\u001b[39m\n\u001b[0;32m--> 244\u001b[0m     \u001b[38;5;28mself\u001b[39m\u001b[38;5;241m.\u001b[39mconfig[\u001b[38;5;124m'\u001b[39m\u001b[38;5;124mapi_version\u001b[39m\u001b[38;5;124m'\u001b[39m] \u001b[38;5;241m=\u001b[39m \u001b[38;5;28;48;5;17mself\u001b[39;49m\u001b[38;5;241;48;5;17m.\u001b[39;49m\u001b[48;5;17mcheck_version\u001b[49m\u001b[48;5;17m(\u001b[49m\u001b[48;5;17mtimeout\u001b[49m\u001b[38;5;241;48;5;17m=\u001b[39;49m\u001b[48;5;17mcheck_timeout\u001b[49m\u001b[48;5;17m)\u001b[49m\n",
      "File \u001b[0;32m/opt/app-root/lib64/python3.8/site-packages/kafka/client_async.py:900\u001b[0m, in \u001b[0;36mKafkaClient.check_version\u001b[0;34m(self, node_id, timeout, strict)\u001b[0m\n\u001b[1;32m    898\u001b[0m \u001b[38;5;28;01mif\u001b[39;00m try_node \u001b[38;5;129;01mis\u001b[39;00m \u001b[38;5;28;01mNone\u001b[39;00m:\n\u001b[1;32m    899\u001b[0m     \u001b[38;5;28mself\u001b[39m\u001b[38;5;241m.\u001b[39m_lock\u001b[38;5;241m.\u001b[39mrelease()\n\u001b[0;32m--> 900\u001b[0m     \u001b[38;5;28;01mraise\u001b[39;00m Errors\u001b[38;5;241m.\u001b[39mNoBrokersAvailable()\n\u001b[1;32m    901\u001b[0m \u001b[38;5;28mself\u001b[39m\u001b[38;5;241m.\u001b[39m_maybe_connect(try_node)\n\u001b[1;32m    902\u001b[0m conn \u001b[38;5;241m=\u001b[39m \u001b[38;5;28mself\u001b[39m\u001b[38;5;241m.\u001b[39m_conns[try_node]\n",
      "\u001b[0;31mNoBrokersAvailable\u001b[0m: NoBrokersAvailable"
     ]
    }
   ],
   "source": [
    "import os\n",
    "import json\n",
    "from kafka import KafkaConsumer, KafkaProducer\n",
    "\n",
    "KAFKA_BOOTSTRAP_SERVER = os.getenv('KAFKA_BOOTSTRAP_SERVER')\n",
    "#KAFKA_SECURITY_PROTOCOL = os.getenv('KAFKA_SECURITY_PROTOCOL')\n",
    "KAFKA_SECURITY_PROTOCOL = 'SASL_PLAINTEXT'\n",
    "#KAFKA_SASL_MECHANISM = os.getenv('KAFKA_SASL_MECHANISM')\n",
    "KAFKA_SASL_MECHANISM = 'PLAIN'\n",
    "KAFKA_USERNAME = os.getenv('KAFKA_USERNAME')\n",
    "KAFKA_PASSWORD = os.getenv('KAFKA_PASSWORD')\n",
    "#KAFKA_CONSUMER_GROUP = 'object-detection-consumer-group'\n",
    "#KAFKA_CONSUMER_TOPIC = os.getenv('KAFKA_TOPIC_IMAGES')\n",
    "KAFKA_PRODUCER_TOPIC = os.getenv('KAFKA_PRODUCER_TOPIC')\n",
    "\n",
    "\n",
    "\n",
    "print(KAFKA_BOOTSTRAP_SERVER)\n",
    "print(KAFKA_USERNAME)\n",
    "print(KAFKA_PASSWORD)\n",
    "print(KAFKA_PRODUCER_TOPIC)\n",
    "\n",
    "producer = KafkaProducer(bootstrap_servers=KAFKA_BOOTSTRAP_SERVER,\n",
    "                         security_protocol=KAFKA_SECURITY_PROTOCOL,\n",
    "                         sasl_mechanism=KAFKA_SASL_MECHANISM,\n",
    "                         sasl_plain_username=KAFKA_USERNAME,\n",
    "                         sasl_plain_password=KAFKA_PASSWORD,\n",
    "                         api_version_auto_timeout_ms=30000,\n",
    "                         max_block_ms=900000,\n",
    "                         request_timeout_ms=450000,\n",
    "                         acks='all')\n",
    "\n",
    "print(f'Subscribed to \"{KAFKA_BOOTSTRAP_SERVER}\"  producing messages on topic \"{KAFKA_PRODUCER_TOPIC}\"...')\n"
   ]
  },
  {
   "cell_type": "code",
   "execution_count": null,
   "id": "8bf98b60-e5a6-46df-a030-17a8bea0b301",
   "metadata": {},
   "outputs": [],
   "source": []
  }
 ],
 "metadata": {
  "kernelspec": {
   "display_name": "Python 3 (ipykernel)",
   "language": "python",
   "name": "python3"
  },
  "language_info": {
   "codemirror_mode": {
    "name": "ipython",
    "version": 3
   },
   "file_extension": ".py",
   "mimetype": "text/x-python",
   "name": "python",
   "nbconvert_exporter": "python",
   "pygments_lexer": "ipython3",
   "version": "3.8.8"
  }
 },
 "nbformat": 4,
 "nbformat_minor": 5
}
